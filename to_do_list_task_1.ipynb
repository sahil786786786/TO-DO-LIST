{
  "nbformat": 4,
  "nbformat_minor": 0,
  "metadata": {
    "colab": {
      "provenance": [],
      "authorship_tag": "ABX9TyMwQSddqVFCn8k8UJWKmO5q",
      "include_colab_link": true
    },
    "kernelspec": {
      "name": "python3",
      "display_name": "Python 3"
    },
    "language_info": {
      "name": "python"
    }
  },
  "cells": [
    {
      "cell_type": "markdown",
      "metadata": {
        "id": "view-in-github",
        "colab_type": "text"
      },
      "source": [
        "<a href=\"https://colab.research.google.com/github/sahil786786786/TO-DO-LIST/blob/main/to_do_list_task_1.ipynb\" target=\"_parent\"><img src=\"https://colab.research.google.com/assets/colab-badge.svg\" alt=\"Open In Colab\"/></a>"
      ]
    },
    {
      "cell_type": "code",
      "execution_count": 2,
      "metadata": {
        "id": "gLVbYXqQkxqL"
      },
      "outputs": [],
      "source": [
        "import json\n",
        "from datetime import datetime\n",
        "\n",
        "# File to store tasks\n",
        "TASKS_FILE = \"tasks.json\"\n",
        "\n",
        "def load_tasks():\n",
        "    try:\n",
        "        with open(TASKS_FILE, \"r\") as file:\n",
        "            tasks = json.load(file)\n",
        "    except FileNotFoundError:\n",
        "        tasks = []\n",
        "    return tasks\n",
        "\n",
        "def save_tasks(tasks):\n",
        "    with open(TASKS_FILE, \"w\") as file:\n",
        "        json.dump(tasks, file)\n",
        "\n",
        "def add_task(tasks, description, priority, due_date):\n",
        "    task = {\"description\": description, \"priority\": priority, \"due_date\": due_date, \"completed\": False}\n",
        "    tasks.append(task)\n",
        "    save_tasks(tasks)\n",
        "\n",
        "def remove_task(tasks, index):\n",
        "    if 0 <= index < len(tasks):\n",
        "        removed_task = tasks.pop(index)\n",
        "        save_tasks(tasks)\n",
        "        return removed_task\n",
        "    else:\n",
        "        return None\n",
        "\n",
        "def mark_completed(tasks, index):\n",
        "    if 0 <= index < len(tasks):\n",
        "        tasks[index][\"completed\"] = True\n",
        "        save_tasks(tasks)\n",
        "\n",
        "def display_tasks(tasks):\n",
        "    if not tasks:\n",
        "        print(\"No tasks found.\")\n",
        "    else:\n",
        "        for i, task in enumerate(tasks):\n",
        "            status = \"[X]\" if task[\"completed\"] else \"[ ]\"\n",
        "            print(f\"{i + 1}. {status} {task['description']} - Priority: {task['priority']}, Due Date: {task['due_date']}\")\n",
        "\n",
        "def main():\n",
        "    tasks = load_tasks()\n",
        "\n",
        "    while True:\n",
        "        print(\"\\n----- TO-DO LIST APP -----\")\n",
        "        print(\"1. Add Task\")\n",
        "        print(\"2. Remove Task\")\n",
        "        print(\"3. Mark Task as Completed\")\n",
        "        print(\"4. Display Tasks\")\n",
        "        print(\"5. Exit\")\n",
        "\n",
        "        choice = input(\"Enter your choice (1-5): \")\n",
        "\n",
        "        if choice == \"1\":\n",
        "            description = input(\"Enter task description: \")\n",
        "            priority = input(\"Enter task priority (high/medium/low): \")\n",
        "            due_date = input(\"Enter due date (YYYY-MM-DD): \")\n",
        "            add_task(tasks, description, priority, due_date)\n",
        "\n",
        "        elif choice == \"2\":\n",
        "            index = int(input(\"Enter task index to remove: \")) - 1\n",
        "            removed_task = remove_task(tasks, index)\n",
        "            if removed_task:\n",
        "                print(f\"Task removed: {removed_task['description']}\")\n",
        "            else:\n",
        "                print(\"Invalid index.\")\n",
        "\n",
        "        elif choice == \"3\":\n",
        "            index = int(input(\"Enter task index to mark as completed: \")) - 1\n",
        "            mark_completed(tasks, index)\n",
        "\n",
        "        elif choice == \"4\":\n",
        "            display_tasks(tasks)\n",
        "\n",
        "        elif choice == \"5\":\n",
        "            print(\"Exiting...\")\n",
        "            break\n",
        "\n",
        "        else:\n",
        "            print(\"Invalid choice. Please enter a number between 1 and 5.\")\n",
        "\n",
        "if __name__ == \"__main__\":\n",
        "    main()\n"
      ]
    }
  ]
}